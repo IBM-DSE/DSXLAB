{
    "nbformat": 4, 
    "nbformat_minor": 1, 
    "cells": [
        {
            "source": "# DSE GBS India DSX Local Hands On Lab Instructions\n(Markdown cheat sheet) https://medium.com/ibm-data-science-experience/markdown-for-jupyter-notebooks-cheatsheet-386c05aeebed", 
            "cell_type": "markdown", 
            "metadata": {
                "slideshow": {
                    "slide_type": "-"
                }
            }
        }, 
        {
            "source": "***", 
            "cell_type": "markdown", 
            "metadata": {
                "collapsed": true
            }
        }, 
        {
            "source": "# 1. Preparation steps\n## 1.1. __Make note of the URL and credentials provided to your team for accessing the the DSX Local system__\nThe systems you'll be using for this lab are hosted in a cloud environment called Skytap.  This skytap environment contains both DSX Local system and a Hortonworks Data Platform environment including the Ambari systems management tool.  Your team will be assigned to an environment that will also be shared with 4 other teams in the hands on lab.  Please pay close attention to naming of projects, models, and other resources so it will be easy for your team to identify its own assets.\n\n>The instructors for the lab will provide you with the following information.  Make note of:\n    1. DSX Local URL: \n    2. DSX Local username/password:\n    3. Ambari URL:\n    4. Ambari username/password:\n        \n        \n## 1.2. Review data assets in Ambari\n| __Filename in HDP__ (in /data/financialservices/churn/) | __Used For Which Lab Steps__                               | __Data Description__                                                               |\n|---------------------------------------------------------|------------------------------------------------------------|------------------------------------------------------------------------------------|\n| __churn_rate_visualization.csv__                        | Python Notebook: *Churn Visualization Python HDP*          | Simple dataset for visualization                                                   |\n| __cust_summary_notebook_training.csv__                  | Scala Notebook:  *Churn ML Training Notebook Scala HDP LR* | Customer churn data for programmatic model training from within a Jupyter notebook |\n| __cust_summary_visbuilder_training.csv__                | Used for training ML model with DSX Visual Model Builder   | Summarized customer churn data for training model with the visual model builder    |\n>Perform the following steps:\n    1. Login to ambari using the credentials you noted above.\n    2. Navigate to the \"Files view\" tool  (Available from the toolbar within the \"Views\" dropdown menu to the right of the \"Admin\" menu)\n    3. Verify you see the assets listed in the table above in the file browser.  You will create data assets in DSX that correspond to these files.\n\n## 1.3. Download copies of required Jupyter notebooks to your personal system\nIn this step you will open an existing project in DSX Local that is shared with your user ID.  You will then open and download Jupyter notebooks to your local system so you can reuse them in the following steps.\n1. Login to DSX Local as your assigned team user.  \n2. You will see a shared project called \"BankChurn\".  *Note:  Do not perform your lab excercises in this project, you only have \"viewer\" priveleges for this project.  You will open, then download the notebooks from this project.*\n3. Click into the BankChurn project, then click \"Assets\".  You should see a list of three notebooks contained in the project.\n4. For each of the notebooks listed above, first open the notebook by clicking its link, then download it using the `File -> Download as -> Notebook (.ipynb)` menu option\n>*Note: Remember the download location for these files, you will need these files in a following step.*\n5. After downloading each .ipynb file, exit the Jupyter notebook by clicking on the \"BankChurn\" project name in the link bar.  \n6. To conserve system resources, stop each running kernel for the notebooks you just downloaded (shown as a green circles) by selecting \"Stop Kernel\" from the 3-dot menu to the right of the notebook name in the assets list.", 
            "cell_type": "markdown", 
            "metadata": {}
        }, 
        {
            "source": "# 2. Create a new DSXL project, create data source connection to HDP and create associated data assets\nPerform the following steps to prepare your DSX Local environment for the lab excercises\n## 2.1 Create a new DSX project\n1. Return to your \"All Projects\" list either by clicking \"View all Projects\" from the the 3 horizontal bar menu at the top-left corner of the screen, or by clicking \"Projects\" in the navigation link area of the screen.\n2. Click \"New Project\" and in the \"Name\" field enter \"__[TeamLetter]__Team_BankChurnLab\" (e.g. ATeam_BankChurnLab, BTeam_BankChurnLab, etc)\n>Note: As you progress through the lab excercises, you will see an asterisk \\* next to the project's name and the message *Changes made -- \nYou have local changes that you can commit* will be displayed. DSXL internally uses git  to manage project changes.  You can commit changes if you would like to but it is not necessary for the excercises in this lab.  If you did have collaborators added to the project, they would not see any additions or changes made to the project until you commit your changes to the project.  \n\n## 2.2 Create a new data source connection to HDP\nYour DSX Local system is already configured to connect securely to the HDP HDFS system using the Knox protocol, but each project must contain a \"Data source\" with the correct connection information for HDFS.  Once the data source is created, you will add \"data sets\" using the new data source.\n1. From within your new project, click \"Data Sources\" \n2. Click \"add data source\"\n3. Enter the following information exactly as shown below then click the \"Create\" button at the lower right of the screen:\n    * Data source name (this can be any text): HDP HDFS\n    * Data source type (dropdown): HDFS - HDP\n    * HDFS host: hdp1.atat.ibm.com\n    * HDFS port:  8020\n    * WebHDFS URL: https://hdp1.atat.ibm.com:8443/gateway/dsx/webhdfs/v1\n    >*When you click \"Create\", the new data source name will be displayed*\n4. Click the name of the new data source to enter the \"View/Edit data source\" screen\n5. Scroll to the bottom of the screen and click \"Add data set\"\n6. Click \"Browse\" - a window opens showing the contents of HDP HDFS, the same content you previewed earlier\n>*If you don't see a list of files open up, check your data source to be sure you correctly entered the settings listed above*\n7. Navigate to \"/data/financialservices/churn/\" in the file tree\n8. For each of CSV files listed in the table in step 1.2 above, do the following\n    * Select the file and select \"Open\"\n    * For \"Remote data set name\" copy and paste the filename but exclude the csv file extension (churn_rate_visualization, cust_summary_notebook_training, cust_summary_visbuilder_training)\n    * Click \"Create\", the scroll down to click \"Add data set\" again, then \"Browse\" and repeat for the remaining files.\n    * When finished, click Save\n9. Verify the new data sets are accessible\n    * Click the name of your project to return to the main project screen\n    * Click \"Assets\" then click \"Data Sets\"\n    * Select \"Preview\" from the 3-dot menu to the right of each of the data sets.  Preview data should be displayed.\n\n\n## 2.3 Create data assets from HDP connection", 
            "cell_type": "markdown", 
            "metadata": {}
        }, 
        {
            "source": "# 3. Create and run the Python customer churn visualization notebook", 
            "cell_type": "markdown", 
            "metadata": {}
        }, 
        {
            "source": "# 4. Create and run the Scala customer churn notebook \n", 
            "cell_type": "markdown", 
            "metadata": {}
        }
    ], 
    "metadata": {
        "language_info": {
            "pygments_lexer": "ipython2", 
            "mimetype": "text/x-python", 
            "version": "2.7.11", 
            "codemirror_mode": {
                "name": "ipython", 
                "version": 2
            }, 
            "nbconvert_exporter": "python", 
            "file_extension": ".py", 
            "name": "python"
        }, 
        "celltoolbar": "Raw Cell Format", 
        "kernelspec": {
            "language": "python", 
            "display_name": "Python 2 with Spark 2.1", 
            "name": "python2-spark21"
        }
    }
}