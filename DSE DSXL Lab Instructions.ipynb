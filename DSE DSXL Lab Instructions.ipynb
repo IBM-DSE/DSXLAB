{
    "nbformat_minor": 1, 
    "cells": [
        {
            "source": "# DSE GBS India DSX Local Hands On Lab Instructions\n(Markdown cheat sheet) https://medium.com/ibm-data-science-experience/markdown-for-jupyter-notebooks-cheatsheet-386c05aeebed", 
            "cell_type": "markdown", 
            "metadata": {
                "slideshow": {
                    "slide_type": "-"
                }
            }
        }, 
        {
            "source": "***", 
            "cell_type": "markdown", 
            "metadata": {
                "collapsed": true
            }
        }, 
        {
            "source": "# 1. Preparation steps\n1. __URL and credentials for accessing the system__\n    \n    A. DSX Local URL: \n    \n    B. DSX Local username/password:\n    \n    C. Ambari URL:\n    \n    D. Ambari username/password:\n    \n2. ", 
            "cell_type": "markdown", 
            "metadata": {}
        }, 
        {
            "source": "# 2. Review data assets in Ambari\n| __Filename in HDP__ (in /data/financialservices/churn/) | __Used For Which Lab Steps__                               | __Data Description__                                                               |\n|---------------------------------------------------------|------------------------------------------------------------|------------------------------------------------------------------------------------|\n| __churn_rate_visualization.csv__                        | Python Notebook: *Churn Visualization Python HDP*          | Simple dataset for visualization                                                   |\n| __cust_summary_notebook_training.csv__                  | Scala Notebook:  *Churn ML Training Notebook Scala HDP LR* | Customer churn data for programmatic model training from within a Jupyter notebook |\n| __cust_summary_visbuilder_training.csv__                | Used for training ML model with DSX Visual Model Builder   | Summarized customer churn data for training model with the visual model builder    |\n1. Login to ambari\n2. Navigate to the \"Files view\" tool  (Available from the toolbar within the \"Views\" dropdown menu to the right of the \"Admin\" menu)\n2. Verify you see the assets listed in the table above in the file browser.  You will create data assets in DSX that correspond to these files.", 
            "cell_type": "markdown", 
            "metadata": {}
        }, 
        {
            "source": "# 3. Download required Jupyter notebooks to your system\n1. Login to DSX Local as your assigned team.  \n2. You will see a shared project called \"BankChurn\".  *Note:  Do not perform your lab excercises in this project, you only have \"viewer\" priveleges for this project.  You will open, then download the notebooks from this project.*\n3. From within the BankChurn project, click \"Assets\" so that you see the list of notebooks contained in the project.\n4. ", 
            "cell_type": "markdown", 
            "metadata": {}
        }, 
        {
            "metadata": {}, 
            "source": "", 
            "execution_count": null, 
            "cell_type": "code", 
            "outputs": []
        }
    ], 
    "nbformat": 4, 
    "metadata": {
        "kernelspec": {
            "name": "python2-spark21", 
            "language": "python", 
            "display_name": "Python 2 with Spark 2.1"
        }, 
        "language_info": {
            "version": "2.7.11", 
            "name": "python", 
            "pygments_lexer": "ipython2", 
            "mimetype": "text/x-python", 
            "codemirror_mode": {
                "name": "ipython", 
                "version": 2
            }, 
            "file_extension": ".py", 
            "nbconvert_exporter": "python"
        }, 
        "celltoolbar": "Raw Cell Format"
    }
}