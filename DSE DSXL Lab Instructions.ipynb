{
    "nbformat_minor": 1, 
    "cells": [
        {
            "source": "# DSE GBS India DSX Local Hands On Lab Instructions\nhttps://medium.com/ibm-data-science-experience/markdown-for-jupyter-notebooks-cheatsheet-386c05aeebed", 
            "cell_type": "markdown", 
            "metadata": {
                "slideshow": {
                    "slide_type": "-"
                }
            }
        }, 
        {
            "source": "***", 
            "cell_type": "markdown", 
            "metadata": {
                "collapsed": true
            }
        }, 
        {
            "source": "# 1. Preparation steps\n1. __URL and credentials for accessing the system__\n    \n    A. DSX Local URL: \n    \n    B. DSX Local username/password:\n    \n    C. Ambari URL:\n    \n    D. Ambari username/password:\n    \n2. ", 
            "cell_type": "markdown", 
            "metadata": {}
        }, 
        {
            "source": "# 2. Review data assets in Ambari\n| __Filename in HDP__ (in /data/financialservices/churn/) | __Used For Which Lab Steps__                             | __Data Description__                   |\n|---------------------------------------------------------|----------------------------------------------------------|----------------------------------------|\n| __Churn_rate.csv__                                      | Notebook: *Churn Visualization Python HDP*               | Simple dataset for visualization       |\n| __cust_sum_clean.csv__                                  | Notebook:  *Churn ML Training Notebook Scala HDP LR*     | Customer churn data for model training |\n| __cust_sum_x.csv__                                      | Used for creating ML model with DSX Visual Model Builder | Summarized customer churn data         |\n| __cust_sum.csv__                                        | not used                                                 | not used                               |\n1. Login to ambari\n2. Navigate to the \"Files view\" tool  (Available from the toolbar within the \"Views\" dropdown menu to the right of the \"Admin\" menu)\n2. Verify you see the assets in the table above in the file browser", 
            "cell_type": "markdown", 
            "metadata": {}
        }, 
        {
            "source": "", 
            "cell_type": "markdown", 
            "metadata": {}
        }, 
        {
            "metadata": {}, 
            "source": "", 
            "execution_count": null, 
            "cell_type": "code", 
            "outputs": []
        }
    ], 
    "nbformat": 4, 
    "metadata": {
        "kernelspec": {
            "name": "python2-spark21", 
            "language": "python", 
            "display_name": "Python 2 with Spark 2.1"
        }, 
        "language_info": {
            "version": "2.7.11", 
            "name": "python", 
            "pygments_lexer": "ipython2", 
            "mimetype": "text/x-python", 
            "codemirror_mode": {
                "name": "ipython", 
                "version": 2
            }, 
            "file_extension": ".py", 
            "nbconvert_exporter": "python"
        }, 
        "celltoolbar": "Raw Cell Format"
    }
}