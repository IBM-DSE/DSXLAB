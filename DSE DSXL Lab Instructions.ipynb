{
    "nbformat": 4, 
    "nbformat_minor": 1, 
    "cells": [
        {
            "source": "# DSE GBS India DSX Local Hands On Lab Instructions\n(Markdown cheat sheet) https://medium.com/ibm-data-science-experience/markdown-for-jupyter-notebooks-cheatsheet-386c05aeebed", 
            "cell_type": "markdown", 
            "metadata": {
                "slideshow": {
                    "slide_type": "-"
                }
            }
        }, 
        {
            "source": "***", 
            "cell_type": "markdown", 
            "metadata": {
                "collapsed": true
            }
        }, 
        {
            "source": "# 1. Preparation steps\n## 1.1. __Make note of the URL and credentials provided to your team for accessing the the DSX Local system__\n\n>You will need:\n    \n        A. DSX Local URL: \n    \n        B. DSX Local username/password:\n    \n        C. Ambari URL:\n    \n        D. Ambari username/password:\n        \n        \n## 1.2. Review data assets in Ambari\n| __Filename in HDP__ (in /data/financialservices/churn/) | __Used For Which Lab Steps__                               | __Data Description__                                                               |\n|---------------------------------------------------------|------------------------------------------------------------|------------------------------------------------------------------------------------|\n| __churn_rate_visualization.csv__                        | Python Notebook: *Churn Visualization Python HDP*          | Simple dataset for visualization                                                   |\n| __cust_summary_notebook_training.csv__                  | Scala Notebook:  *Churn ML Training Notebook Scala HDP LR* | Customer churn data for programmatic model training from within a Jupyter notebook |\n| __cust_summary_visbuilder_training.csv__                | Used for training ML model with DSX Visual Model Builder   | Summarized customer churn data for training model with the visual model builder    |\nPerform the following steps:\n1. Login to ambari using the credentials you noted above.\n2. Navigate to the \"Files view\" tool  (Available from the toolbar within the \"Views\" dropdown menu to the right of the \"Admin\" menu)\n2. Verify you see the assets listed in the table above in the file browser.  You will create data assets in DSX that correspond to these files.\n\n## 1.3. Download copies of required Jupyter notebooks to your personal system\nIn this step you will open an existing project in DSX Local that is shared with your user ID.  You will then open and download Jupyter notebooks to your local system so you can reuse them in the following steps.\n1. Login to DSX Local as your assigned team user.  \n2. You will see a shared project called \"BankChurn\".  *Note:  Do not perform your lab excercises in this project, you only have \"viewer\" priveleges for this project.  You will open, then download the notebooks from this project.*\n3. Click into the BankChurn project, then click \"Assets\".  You should see a list of three notebooks contained in the project.\n4. For each of the notebooks listed above, first open the notebook by clicking its link, then download it using the `File -> Download as -> Notebook (.ipynb)` menu option\n>*Note: Remember the download location for these files, you will need these files in a following step.*", 
            "cell_type": "markdown", 
            "metadata": {}
        }, 
        {
            "source": "# 2. Create a new DSXL project, create the required notebooks, create data source connection to HDP and associated data assets\n## 2.1 Create a new DSX project\n## 2.2 Create new notebooks in the project from the files previously downloaded \n## 2.3 Create a new data source connection to HDP\n## 2.4 Create data assets from HDP connection", 
            "cell_type": "markdown", 
            "metadata": {}
        }, 
        {
            "source": "", 
            "metadata": {}, 
            "outputs": [], 
            "cell_type": "code", 
            "execution_count": null
        }
    ], 
    "metadata": {
        "language_info": {
            "pygments_lexer": "ipython2", 
            "mimetype": "text/x-python", 
            "version": "2.7.11", 
            "codemirror_mode": {
                "name": "ipython", 
                "version": 2
            }, 
            "nbconvert_exporter": "python", 
            "file_extension": ".py", 
            "name": "python"
        }, 
        "celltoolbar": "Raw Cell Format", 
        "kernelspec": {
            "language": "python", 
            "display_name": "Python 2 with Spark 2.1", 
            "name": "python2-spark21"
        }
    }
}